{
 "cells": [
  {
   "cell_type": "code",
   "execution_count": 1,
   "metadata": {},
   "outputs": [],
   "source": [
    "import numpy as np\n",
    "import matplotlib.pyplot as plt\n",
    "\n",
    "from astropy.io import fits\n",
    "from astropy.table import Table\n",
    "from astropy.coordinates import SkyCoord\n",
    "import astropy.units as u\n",
    "\n",
    "from galpy.orbit import Orbit\n",
    "from astroML.density_estimation import XDGMM"
   ]
  },
  {
   "cell_type": "markdown",
   "metadata": {},
   "source": [
    "## Load Data"
   ]
  },
  {
   "cell_type": "code",
   "execution_count": 2,
   "metadata": {},
   "outputs": [],
   "source": [
    "data_ic = Table.read(\"data/ic348_apogee.csv\")\n",
    "data_ngc = Table.read(\"data/ngc1333_apogee.csv\")"
   ]
  },
  {
   "cell_type": "code",
   "execution_count": 3,
   "metadata": {},
   "outputs": [],
   "source": [
    "# sun orbit data -- used later to convert between uvw and UVW\n",
    "osun = Orbit([0,0,0,-11.1, -12.24, -7.25],radec=True,uvw=True)"
   ]
  },
  {
   "cell_type": "markdown",
   "metadata": {},
   "source": [
    "## Functions"
   ]
  },
  {
   "cell_type": "markdown",
   "metadata": {},
   "source": [
    "##### calculate LBD values for each star"
   ]
  },
  {
   "cell_type": "code",
   "execution_count": 4,
   "metadata": {},
   "outputs": [],
   "source": [
    "def calculate_LBDUVW(row):\n",
    "    samp = np.array([row['ra'], row['dec'], row['parallax'], row['pmra'], row['pmdec'], row['RV']])\n",
    "    \n",
    "    coord = SkyCoord(ra = samp[0] * u.deg, dec = samp[1] * u.deg, distance=1000/samp[2] *u.pc,\n",
    "                             pm_ra_cosdec=samp[3] *u.mas/u.yr, pm_dec=samp[4] *u.mas/u.yr,\n",
    "                             radial_velocity=samp[5] *u.km/u.s,\n",
    "                             frame='icrs')\n",
    "    \n",
    "    o = Orbit(coord)\n",
    "    \n",
    "    return coord.galactic.l.value, coord.galactic.b.value, coord.galactic.distance.value, o.U(), o.V(), o.W()"
   ]
  },
  {
   "cell_type": "markdown",
   "metadata": {},
   "source": [
    "##### calculate LBD and UVW errors for each star"
   ]
  },
  {
   "cell_type": "code",
   "execution_count": 5,
   "metadata": {},
   "outputs": [],
   "source": [
    "def calculate_err(row):\n",
    "    mean = np.array([row['ra'], row['dec'], row['parallax'], row['pmra'], row['pmdec'], row['RV']])\n",
    "    std = np.array([0, 0, row['parallax_error'], row['pmra_error'], row['pmdec_error'], row['e_RV']])\n",
    "    \n",
    "    X = np.vstack(mean)\n",
    "    Xerr = np.zeros((6,6))\n",
    "    np.fill_diagonal(Xerr, std)\n",
    "    \n",
    "    single_star_samps = np.random.multivariate_normal(mean, Xerr**2, size=100, check_valid='warn', tol=1e-8)\n",
    "    \n",
    "    coords = []\n",
    "    for samp in single_star_samps:\n",
    "        if samp[2] < 0:\n",
    "            pass\n",
    "        else:\n",
    "            coords.append(SkyCoord(ra = samp[0] * u.deg, dec = samp[1] * u.deg, distance=1000/samp[2] *u.pc,\n",
    "                             pm_ra_cosdec=samp[3] *u.mas/u.yr, pm_dec=samp[4] *u.mas/u.yr,\n",
    "                             radial_velocity=samp[5] *u.km/u.s,\n",
    "                             frame='icrs'))\n",
    "    \n",
    "    l_list = []\n",
    "    d_list = []\n",
    "    b_list = []\n",
    "    U_list = []\n",
    "    V_list = []\n",
    "    W_list = []\n",
    "\n",
    "    for coord in coords:\n",
    "        l_list.append(coord.galactic.l.value)\n",
    "        b_list.append(coord.galactic.b.value)\n",
    "        d_list.append(coord.galactic.distance.value)\n",
    "        \n",
    "        o = Orbit(coord)\n",
    "        U_list.append(o.U())\n",
    "        V_list.append(o.V())\n",
    "        W_list.append(o.W())\n",
    "        \n",
    "    l_err = np.std(l_list)\n",
    "    b_err = np.std(b_list)\n",
    "    d_err = np.std(d_list)\n",
    "    \n",
    "    U_err = np.std(U_list)\n",
    "    V_err = np.std(V_list)\n",
    "    W_err = np.std(W_list)\n",
    "\n",
    "    \n",
    "    return l_err, b_err, d_err, U_err, V_err, W_err"
   ]
  },
  {
   "cell_type": "markdown",
   "metadata": {},
   "source": [
    "## Calculate Coords and Errors for Clusters"
   ]
  },
  {
   "cell_type": "code",
   "execution_count": 6,
   "metadata": {
    "collapsed": true
   },
   "outputs": [
    {
     "name": "stdout",
     "output_type": "stream",
     "text": [
      "1\n",
      "2\n",
      "3\n",
      "4\n",
      "5\n",
      "6\n",
      "7\n",
      "8\n",
      "9\n",
      "10\n",
      "11\n",
      "12\n",
      "13\n",
      "14\n",
      "15\n",
      "16\n",
      "17\n",
      "18\n",
      "19\n",
      "20\n",
      "21\n",
      "22\n",
      "23\n",
      "24\n",
      "25\n",
      "26\n",
      "27\n",
      "28\n",
      "29\n",
      "30\n",
      "31\n",
      "32\n",
      "33\n",
      "34\n",
      "35\n",
      "36\n",
      "37\n",
      "38\n",
      "39\n",
      "40\n",
      "41\n",
      "42\n",
      "43\n",
      "44\n",
      "45\n",
      "46\n",
      "47\n",
      "48\n",
      "49\n",
      "50\n",
      "51\n",
      "52\n",
      "53\n",
      "54\n",
      "55\n",
      "56\n",
      "57\n",
      "58\n",
      "59\n",
      "60\n",
      "61\n",
      "62\n",
      "63\n",
      "64\n",
      "65\n",
      "66\n",
      "67\n",
      "68\n",
      "69\n",
      "70\n",
      "71\n",
      "72\n",
      "73\n",
      "74\n",
      "75\n",
      "76\n",
      "77\n",
      "78\n",
      "79\n",
      "80\n",
      "81\n",
      "82\n",
      "83\n",
      "84\n",
      "85\n",
      "86\n",
      "87\n",
      "88\n",
      "89\n",
      "90\n",
      "91\n",
      "92\n",
      "93\n",
      "94\n",
      "95\n",
      "96\n",
      "97\n",
      "98\n",
      "99\n",
      "100\n",
      "101\n",
      "102\n",
      "103\n",
      "104\n",
      "105\n",
      "106\n",
      "107\n",
      "108\n",
      "109\n",
      "110\n",
      "111\n",
      "112\n",
      "113\n",
      "114\n",
      "115\n",
      "116\n",
      "117\n",
      "118\n",
      "119\n",
      "120\n",
      "121\n",
      "122\n",
      "123\n",
      "124\n",
      "125\n",
      "126\n",
      "127\n",
      "128\n",
      "129\n",
      "130\n",
      "131\n",
      "132\n",
      "133\n",
      "134\n",
      "135\n",
      "136\n",
      "137\n",
      "138\n",
      "139\n",
      "140\n",
      "141\n",
      "142\n",
      "143\n",
      "144\n",
      "145\n",
      "146\n",
      "147\n",
      "148\n",
      "149\n",
      "150\n",
      "151\n"
     ]
    }
   ],
   "source": [
    "l_err_ic = []\n",
    "b_err_ic = []\n",
    "d_err_ic = []\n",
    "\n",
    "U_err_ic = []\n",
    "V_err_ic = []\n",
    "W_err_ic = []\n",
    "\n",
    "L_ic = []\n",
    "B_ic = []\n",
    "D_ic = []\n",
    "\n",
    "U_ic = []\n",
    "V_ic = []\n",
    "W_ic = []\n",
    "\n",
    "count = 1\n",
    "\n",
    "for row in data_ic:\n",
    "    print(count)\n",
    "    l_err, b_err, d_err, U_err, V_err, W_err = calculate_err(row)\n",
    "    L,B,D, U, V, W= calculate_LBDUVW(row)\n",
    "    \n",
    "    l_err_ic.append(l_err)\n",
    "    b_err_ic.append(b_err)\n",
    "    d_err_ic.append(d_err)\n",
    "    \n",
    "    U_err_ic.append(U_err)\n",
    "    V_err_ic.append(V_err)\n",
    "    W_err_ic.append(W_err)\n",
    "    \n",
    "    L_ic.append(L)\n",
    "    B_ic.append(B)\n",
    "    D_ic.append(D)\n",
    "    \n",
    "    U_ic.append(U)\n",
    "    V_ic.append(V)\n",
    "    W_ic.append(W)\n",
    "    \n",
    "    count += 1"
   ]
  },
  {
   "cell_type": "code",
   "execution_count": 7,
   "metadata": {
    "collapsed": true
   },
   "outputs": [
    {
     "name": "stdout",
     "output_type": "stream",
     "text": [
      "1\n",
      "2\n",
      "3\n",
      "4\n",
      "5\n",
      "6\n",
      "7\n",
      "8\n",
      "9\n",
      "10\n",
      "11\n",
      "12\n",
      "13\n",
      "14\n",
      "15\n",
      "16\n",
      "17\n",
      "18\n",
      "19\n",
      "20\n",
      "21\n",
      "22\n",
      "23\n",
      "24\n",
      "25\n",
      "26\n",
      "27\n",
      "28\n",
      "29\n",
      "30\n",
      "31\n",
      "32\n",
      "33\n",
      "34\n",
      "35\n",
      "36\n",
      "37\n",
      "38\n",
      "39\n",
      "40\n",
      "41\n",
      "42\n",
      "43\n",
      "44\n",
      "45\n",
      "46\n",
      "47\n",
      "48\n",
      "49\n",
      "50\n",
      "51\n",
      "52\n",
      "53\n",
      "54\n",
      "55\n",
      "56\n",
      "57\n"
     ]
    }
   ],
   "source": [
    "l_err_ngc = []\n",
    "b_err_ngc = []\n",
    "d_err_ngc = []\n",
    "\n",
    "U_err_ngc = []\n",
    "V_err_ngc = []\n",
    "W_err_ngc = []\n",
    "\n",
    "L_ngc = []\n",
    "B_ngc = []\n",
    "D_ngc = []\n",
    "\n",
    "U_ngc = []\n",
    "V_ngc = []\n",
    "W_ngc = []\n",
    "\n",
    "count = 1\n",
    "\n",
    "for row in data_ngc:\n",
    "    print(count)\n",
    "    l_err, b_err, d_err, U_err, V_err, W_err = calculate_err(row)\n",
    "    L,B,D,U,V,W = calculate_LBDUVW(row)\n",
    "    \n",
    "    l_err_ngc.append(l_err)\n",
    "    b_err_ngc.append(b_err)\n",
    "    d_err_ngc.append(d_err)\n",
    "    \n",
    "    U_err_ngc.append(U_err)\n",
    "    V_err_ngc.append(V_err)\n",
    "    W_err_ngc.append(W_err)\n",
    "    \n",
    "    L_ngc.append(L)\n",
    "    B_ngc.append(B)\n",
    "    D_ngc.append(D)\n",
    "    \n",
    "    U_ngc.append(U)\n",
    "    V_ngc.append(V)\n",
    "    W_ngc.append(W)\n",
    "    \n",
    "    count += 1"
   ]
  },
  {
   "cell_type": "markdown",
   "metadata": {},
   "source": [
    "## Running Deconvolution"
   ]
  },
  {
   "cell_type": "code",
   "execution_count": 8,
   "metadata": {},
   "outputs": [],
   "source": [
    "X_ic = np.vstack([L_ic, B_ic, D_ic, U_ic, V_ic, W_ic]).T\n",
    "Xerr_ic = np.zeros(X_ic.shape + X_ic.shape[-1:])\n",
    "\n",
    "for i in range(0,len(l_err_ic)):\n",
    "    np.fill_diagonal(Xerr_ic[i], [l_err_ic[i]**2, b_err_ic[i]**2, d_err_ic[i]**2,\n",
    "                              U_err_ic[i]**2, V_err_ic[i]**2, W_err_ic[i]**2])\n",
    "\n",
    "clf_ic = XDGMM(n_components = 1)\n",
    "clf_ic.fit(X_ic, Xerr_ic)\n",
    "\n",
    "mu_ic = clf_ic.mu[0]\n",
    "cov_ic = np.diagonal(clf_ic.V[0])\n",
    "sigma_ic = np.sqrt(np.diagonal(clf_ic.V[0]))"
   ]
  },
  {
   "cell_type": "code",
   "execution_count": 9,
   "metadata": {},
   "outputs": [],
   "source": [
    "X_ngc = np.vstack([L_ngc, B_ngc, D_ngc, U_ngc, V_ngc, W_ngc]).T\n",
    "Xerr_ngc = np.zeros(X_ngc.shape + X_ngc.shape[-1:])\n",
    "\n",
    "for i in range(0,len(l_err_ngc)):\n",
    "    np.fill_diagonal(Xerr_ngc[i], [l_err_ngc[i]**2, b_err_ngc[i]**2, d_err_ngc[i]**2,\n",
    "                              U_err_ngc[i]**2, V_err_ngc[i]**2, W_err_ngc[i]**2])\n",
    "\n",
    "clf_ngc = XDGMM(n_components = 1)\n",
    "clf_ngc.fit(X_ngc, Xerr_ngc)\n",
    "\n",
    "mu_ngc = clf_ngc.mu[0]\n",
    "cov_ngc = np.diagonal(clf_ngc.V[0])\n",
    "sigma_ngc = np.sqrt(np.diagonal(clf_ngc.V[0]))"
   ]
  },
  {
   "cell_type": "markdown",
   "metadata": {},
   "source": [
    "## Deconvolution Results"
   ]
  },
  {
   "cell_type": "code",
   "execution_count": 10,
   "metadata": {},
   "outputs": [
    {
     "name": "stdout",
     "output_type": "stream",
     "text": [
      "IC 348 summary\n",
      "means   L:160.44807891635463 --  B:-17.86026392582957 -- D:313.9916389132824\n",
      "        U:-16.46793416595014 --  V:-6.081614323171151 --  W:-7.585452814726482\n",
      "        u:-5.3679341659501425 -- v:6.158385676828874 -- w:-0.3354528147264837\n",
      "sigma   L:0.14983855948177127 --  B:0.22763045736792534 -- D:12.225286987753991\n",
      "        U:0.7178438176848573 --  V:1.1025115613699512 --  W:1.1634459779129966\n",
      "\n",
      "NGC 1333 summary\n",
      "means   L:158.5487420283691 --  B:-20.470342082554822 -- D:293.7665154433183\n",
      "        U:-16.454469366873358 --  V:-10.090089764675295 --  W:-9.416247915564714\n",
      "        u:-5.35446936687336 -- v:2.1499102353247306 -- w:-2.166247915564716\n",
      "sigma   L:0.36148767514621294 --  B:0.2286485679966048 -- D:10.653042013643867\n",
      "        U:2.609597929009102 --  V:3.27444560812533 --  W:3.837211326620519\n"
     ]
    }
   ],
   "source": [
    "print(\"IC 348 summary\")\n",
    "print(f\"means   L:{mu_ic[0]} --  B:{mu_ic[1]} -- D:{mu_ic[2]}\")\n",
    "print(f\"        U:{mu_ic[3]} --  V:{mu_ic[4]} --  W:{mu_ic[5]}\")\n",
    "print(f\"        u:{mu_ic[3] - osun.U()} -- v:{mu_ic[4] - osun.V()} -- w:{mu_ic[5] - osun.W()}\")\n",
    "print(f\"sigma   L:{sigma_ic[0]} --  B:{sigma_ic[1]} -- D:{sigma_ic[2]}\")\n",
    "print(f\"        U:{sigma_ic[3]} --  V:{sigma_ic[4]} --  W:{sigma_ic[5]}\")\n",
    "\n",
    "print(\"\")\n",
    "\n",
    "print(\"NGC 1333 summary\")\n",
    "print(f\"means   L:{mu_ngc[0]} --  B:{mu_ngc[1]} -- D:{mu_ngc[2]}\")\n",
    "print(f\"        U:{mu_ngc[3]} --  V:{mu_ngc[4]} --  W:{mu_ngc[5]}\")\n",
    "print(f\"        u:{mu_ngc[3] - osun.U()} -- v:{mu_ngc[4] - osun.V()} -- w:{mu_ngc[5] - osun.W()}\")\n",
    "print(f\"sigma   L:{sigma_ngc[0]} --  B:{sigma_ngc[1]} -- D:{sigma_ngc[2]}\")\n",
    "print(f\"        U:{sigma_ngc[3]} --  V:{sigma_ngc[4]} --  W:{sigma_ngc[5]}\")"
   ]
  },
  {
   "cell_type": "code",
   "execution_count": 11,
   "metadata": {},
   "outputs": [
    {
     "name": "stdout",
     "output_type": "stream",
     "text": [
      "-281.6268882586821 pc\n",
      "100.01661563185121 pc\n",
      "-96.30016466616993 pc\n"
     ]
    }
   ],
   "source": [
    "c=SkyCoord(l=mu_ic[0]*u.deg,b=mu_ic[1]*u.deg,distance=mu_ic[2]*u.pc, frame = \"galactic\")\n",
    "\n",
    "print(c.cartesian.x)\n",
    "print(c.cartesian.y)\n",
    "print(c.cartesian.z)"
   ]
  },
  {
   "cell_type": "code",
   "execution_count": 12,
   "metadata": {},
   "outputs": [
    {
     "name": "stdout",
     "output_type": "stream",
     "text": [
      "-287.18407489924704 pc\n",
      "101.80077279513219 pc\n",
      "-97.85533887445612 pc\n"
     ]
    }
   ],
   "source": [
    "c=SkyCoord(l=160.48164348106025*u.deg,b=-17.8049398897683*u.deg,\n",
    "           distance=320.0214954712528*u.pc, frame = \"galactic\")\n",
    "\n",
    "print(c.cartesian.x)\n",
    "print(c.cartesian.y)\n",
    "print(c.cartesian.z)"
   ]
  },
  {
   "cell_type": "code",
   "execution_count": 13,
   "metadata": {},
   "outputs": [
    {
     "name": "stdout",
     "output_type": "stream",
     "text": [
      "IC 348 - dispersion\n",
      "UVW: 1.7562568243468002\n",
      "NGC 1333 - dispersion\n",
      "UVW: 5.679452980420267\n"
     ]
    }
   ],
   "source": [
    "print(\"IC 348 - dispersion\")\n",
    "print(f\"UVW: {np.sqrt(sigma_ic[3]**2 + sigma_ic[4]**2 + sigma_ic[5]**2)}\")\n",
    "\n",
    "print(\"NGC 1333 - dispersion\")\n",
    "print(f\"UVW: {np.sqrt(sigma_ngc[3]**2 + sigma_ngc[4]**2 + sigma_ngc[5]**2)}\")"
   ]
  },
  {
   "cell_type": "markdown",
   "metadata": {},
   "source": [
    "## Exporting Results"
   ]
  },
  {
   "cell_type": "code",
   "execution_count": 14,
   "metadata": {},
   "outputs": [],
   "source": [
    "t = Table()\n",
    "t[\"cluster\"] = [\"IC 348\", \"NGC 1333\"]\n",
    "t[\"L\"] = [mu_ic[0], mu_ngc[0]]\n",
    "t[\"B\"] = [mu_ic[1], mu_ngc[1]]\n",
    "t[\"D\"] = [mu_ic[2], mu_ngc[2]]\n",
    "t[\"L_err\"] = [sigma_ic[0], sigma_ngc[0]]\n",
    "t[\"B_err\"] = [sigma_ic[1], sigma_ngc[1]]\n",
    "t[\"D_err\"] = [sigma_ic[2], sigma_ngc[2]]\n",
    "t[\"U\"] = [mu_ic[3], mu_ngc[3]]\n",
    "t[\"V\"] = [mu_ic[4], mu_ngc[4]]\n",
    "t[\"W\"] = [mu_ic[5], mu_ngc[5]]\n",
    "t[\"U_err\"] = [sigma_ic[3], sigma_ngc[3]]\n",
    "t[\"V_err\"] = [sigma_ic[4], sigma_ngc[4]]\n",
    "t[\"W_err\"] = [sigma_ic[5], sigma_ngc[5]]\n",
    "t[\"UVW_dispersion\"] = [np.sqrt(sigma_ic[3]**2 + sigma_ic[4]**2 + sigma_ic[5]**2), \n",
    "                       np.sqrt(sigma_ngc[3]**2 + sigma_ngc[4]**2 + sigma_ngc[5]**2)]\n",
    "t[\"u\"] = [mu_ic[3] - osun.U(), mu_ngc[3] - osun.U()]\n",
    "t[\"v\"] = [mu_ic[4] - osun.V(), mu_ngc[4] - osun.V()]\n",
    "t[\"w\"] = [mu_ic[5] - osun.W(), mu_ngc[5] - osun.W()]"
   ]
  },
  {
   "cell_type": "code",
   "execution_count": 15,
   "metadata": {},
   "outputs": [
    {
     "data": {
      "text/html": [
       "<i>Table length=2</i>\n",
       "<table id=\"table47649987139664\" class=\"table-striped table-bordered table-condensed\">\n",
       "<thead><tr><th>cluster</th><th>L</th><th>B</th><th>D</th><th>L_err</th><th>B_err</th><th>D_err</th><th>U</th><th>V</th><th>W</th><th>U_err</th><th>V_err</th><th>W_err</th><th>UVW_dispersion</th><th>u</th><th>v</th><th>w</th></tr></thead>\n",
       "<thead><tr><th>str8</th><th>float64</th><th>float64</th><th>float64</th><th>float64</th><th>float64</th><th>float64</th><th>float64</th><th>float64</th><th>float64</th><th>float64</th><th>float64</th><th>float64</th><th>float64</th><th>float64</th><th>float64</th><th>float64</th></tr></thead>\n",
       "<tr><td>IC 348</td><td>160.44807891635463</td><td>-17.86026392582957</td><td>313.9916389132824</td><td>0.14983855948177127</td><td>0.22763045736792534</td><td>12.225286987753991</td><td>-16.46793416595014</td><td>-6.081614323171151</td><td>-7.585452814726482</td><td>0.7178438176848573</td><td>1.1025115613699512</td><td>1.1634459779129966</td><td>1.7562568243468002</td><td>-5.3679341659501425</td><td>6.158385676828874</td><td>-0.3354528147264837</td></tr>\n",
       "<tr><td>NGC 1333</td><td>158.5487420283691</td><td>-20.470342082554822</td><td>293.7665154433183</td><td>0.36148767514621294</td><td>0.2286485679966048</td><td>10.653042013643867</td><td>-16.454469366873358</td><td>-10.090089764675295</td><td>-9.416247915564714</td><td>2.609597929009102</td><td>3.27444560812533</td><td>3.837211326620519</td><td>5.679452980420267</td><td>-5.35446936687336</td><td>2.1499102353247306</td><td>-2.166247915564716</td></tr>\n",
       "</table>"
      ],
      "text/plain": [
       "<Table length=2>\n",
       "cluster          L          ...         v                   w         \n",
       "  str8        float64       ...      float64             float64      \n",
       "-------- ------------------ ... ------------------ -------------------\n",
       "  IC 348 160.44807891635463 ...  6.158385676828874 -0.3354528147264837\n",
       "NGC 1333  158.5487420283691 ... 2.1499102353247306  -2.166247915564716"
      ]
     },
     "execution_count": 15,
     "metadata": {},
     "output_type": "execute_result"
    }
   ],
   "source": [
    "t"
   ]
  },
  {
   "cell_type": "code",
   "execution_count": 16,
   "metadata": {},
   "outputs": [],
   "source": [
    "t.write(\"data/deconvolution_results.csv\", format = \"csv\", overwrite=True)"
   ]
  }
 ],
 "metadata": {
  "kernelspec": {
   "display_name": "Python [conda env:.conda-standard]",
   "language": "python",
   "name": "conda-env-.conda-standard-py"
  },
  "language_info": {
   "codemirror_mode": {
    "name": "ipython",
    "version": 3
   },
   "file_extension": ".py",
   "mimetype": "text/x-python",
   "name": "python",
   "nbconvert_exporter": "python",
   "pygments_lexer": "ipython3",
   "version": "3.7.9"
  }
 },
 "nbformat": 4,
 "nbformat_minor": 4
}
