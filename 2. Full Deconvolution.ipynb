{
 "cells": [
  {
   "cell_type": "code",
   "execution_count": 1,
   "metadata": {},
   "outputs": [],
   "source": [
    "import numpy as np\n",
    "import matplotlib.pyplot as plt\n",
    "\n",
    "from astropy.io import fits\n",
    "from astropy.table import Table\n",
    "from astropy.coordinates import SkyCoord\n",
    "import astropy.units as u\n",
    "\n",
    "from galpy.orbit import Orbit\n",
    "from astroML.density_estimation import XDGMM"
   ]
  },
  {
   "cell_type": "markdown",
   "metadata": {},
   "source": [
    "## Load Data"
   ]
  },
  {
   "cell_type": "code",
   "execution_count": 2,
   "metadata": {},
   "outputs": [],
   "source": [
    "data_ic = Table.read(\"data/outputs/ic348_apogee.csv\")\n",
    "data_ngc = Table.read(\"data/outputs/ngc1333_apogee.csv\")"
   ]
  },
  {
   "cell_type": "code",
   "execution_count": 3,
   "metadata": {},
   "outputs": [],
   "source": [
    "# sun orbit data -- used later to convert between uvw and UVW\n",
    "osun = Orbit([0,0,0,-11.1, -12.24, -7.25],radec=True,uvw=True)"
   ]
  },
  {
   "cell_type": "markdown",
   "metadata": {},
   "source": [
    "## Functions"
   ]
  },
  {
   "cell_type": "markdown",
   "metadata": {},
   "source": [
    "##### calculate LBD values for each star"
   ]
  },
  {
   "cell_type": "code",
   "execution_count": 4,
   "metadata": {},
   "outputs": [],
   "source": [
    "def calculate_LBDUVW(row):\n",
    "    samp = np.array([row['ra'], row['dec'], row['parallax'], row['pmra'], row['pmdec'], row['RV']])\n",
    "    \n",
    "    coord = SkyCoord(ra = samp[0] * u.deg, dec = samp[1] * u.deg, distance=1000/samp[2] *u.pc,\n",
    "                             pm_ra_cosdec=samp[3] *u.mas/u.yr, pm_dec=samp[4] *u.mas/u.yr,\n",
    "                             radial_velocity=samp[5] *u.km/u.s,\n",
    "                             frame='icrs')\n",
    "    \n",
    "    o = Orbit(coord)\n",
    "    \n",
    "    return coord.galactic.l.value, coord.galactic.b.value, coord.galactic.distance.value, o.U(), o.V(), o.W()"
   ]
  },
  {
   "cell_type": "markdown",
   "metadata": {},
   "source": [
    "##### calculate LBD and UVW errors for each star"
   ]
  },
  {
   "cell_type": "code",
   "execution_count": 5,
   "metadata": {},
   "outputs": [],
   "source": [
    "def calculate_err(row):\n",
    "    mean = np.array([row['ra'], row['dec'], row['parallax'], row['pmra'], row['pmdec'], row['RV']])\n",
    "    std = np.array([row['ra_error'], row['dec_error'], row['parallax_error'], row['pmra_error'], row['pmdec_error'], row['e_RV']])\n",
    "    \n",
    "    X = np.vstack(mean)\n",
    "    Xerr = np.zeros((6,6))\n",
    "    np.fill_diagonal(Xerr, std)\n",
    "    \n",
    "    single_star_samps = np.random.multivariate_normal(mean, Xerr**2, size=100, check_valid='warn', tol=1e-8)\n",
    "    \n",
    "    coords = []\n",
    "    for samp in single_star_samps:\n",
    "        if samp[2] < 0:\n",
    "            pass\n",
    "        else:\n",
    "            coords.append(SkyCoord(ra = samp[0] * u.deg, dec = samp[1] * u.deg, distance=1000/samp[2] *u.pc,\n",
    "                             pm_ra_cosdec=samp[3] *u.mas/u.yr, pm_dec=samp[4] *u.mas/u.yr,\n",
    "                             radial_velocity=samp[5] *u.km/u.s,\n",
    "                             frame='icrs'))\n",
    "    \n",
    "    l_list = []\n",
    "    d_list = []\n",
    "    b_list = []\n",
    "    U_list = []\n",
    "    V_list = []\n",
    "    W_list = []\n",
    "\n",
    "    for coord in coords:\n",
    "        l_list.append(coord.galactic.l.value)\n",
    "        b_list.append(coord.galactic.b.value)\n",
    "        d_list.append(coord.galactic.distance.value)\n",
    "        \n",
    "        o = Orbit(coord)\n",
    "        U_list.append(o.U())\n",
    "        V_list.append(o.V())\n",
    "        W_list.append(o.W())\n",
    "        \n",
    "    l_err = np.std(l_list)\n",
    "    b_err = np.std(b_list)\n",
    "    d_err = np.std(d_list)\n",
    "    \n",
    "    U_err = np.std(U_list)\n",
    "    V_err = np.std(V_list)\n",
    "    W_err = np.std(W_list)\n",
    "\n",
    "    \n",
    "    return l_err, b_err, d_err, U_err, V_err, W_err"
   ]
  },
  {
   "cell_type": "markdown",
   "metadata": {},
   "source": [
    "## Calculate Coords and Errors for Clusters"
   ]
  },
  {
   "cell_type": "code",
   "execution_count": 6,
   "metadata": {
    "collapsed": true
   },
   "outputs": [
    {
     "name": "stdout",
     "output_type": "stream",
     "text": [
      "1\n",
      "2\n",
      "3\n",
      "4\n",
      "5\n",
      "6\n",
      "7\n",
      "8\n",
      "9\n",
      "10\n",
      "11\n",
      "12\n",
      "13\n",
      "14\n",
      "15\n",
      "16\n",
      "17\n",
      "18\n",
      "19\n",
      "20\n",
      "21\n",
      "22\n",
      "23\n",
      "24\n",
      "25\n",
      "26\n",
      "27\n",
      "28\n",
      "29\n",
      "30\n",
      "31\n",
      "32\n",
      "33\n",
      "34\n",
      "35\n",
      "36\n",
      "37\n",
      "38\n",
      "39\n",
      "40\n",
      "41\n",
      "42\n",
      "43\n",
      "44\n",
      "45\n",
      "46\n",
      "47\n",
      "48\n",
      "49\n",
      "50\n",
      "51\n",
      "52\n",
      "53\n",
      "54\n",
      "55\n",
      "56\n",
      "57\n",
      "58\n",
      "59\n",
      "60\n",
      "61\n",
      "62\n",
      "63\n",
      "64\n",
      "65\n",
      "66\n",
      "67\n",
      "68\n",
      "69\n",
      "70\n",
      "71\n",
      "72\n",
      "73\n",
      "74\n",
      "75\n",
      "76\n",
      "77\n",
      "78\n",
      "79\n",
      "80\n",
      "81\n",
      "82\n",
      "83\n",
      "84\n",
      "85\n",
      "86\n",
      "87\n",
      "88\n",
      "89\n",
      "90\n",
      "91\n",
      "92\n",
      "93\n",
      "94\n",
      "95\n",
      "96\n",
      "97\n",
      "98\n",
      "99\n",
      "100\n",
      "101\n",
      "102\n",
      "103\n",
      "104\n",
      "105\n",
      "106\n",
      "107\n",
      "108\n",
      "109\n",
      "110\n",
      "111\n",
      "112\n",
      "113\n",
      "114\n",
      "115\n",
      "116\n",
      "117\n",
      "118\n",
      "119\n",
      "120\n",
      "121\n",
      "122\n",
      "123\n",
      "124\n",
      "125\n",
      "126\n",
      "127\n",
      "128\n",
      "129\n",
      "130\n",
      "131\n",
      "132\n",
      "133\n",
      "134\n",
      "135\n",
      "136\n",
      "137\n",
      "138\n",
      "139\n",
      "140\n",
      "141\n",
      "142\n",
      "143\n",
      "144\n",
      "145\n",
      "146\n",
      "147\n",
      "148\n",
      "149\n",
      "150\n",
      "151\n",
      "152\n",
      "153\n",
      "154\n",
      "155\n",
      "156\n",
      "157\n",
      "158\n",
      "159\n",
      "160\n",
      "161\n",
      "162\n",
      "163\n",
      "164\n",
      "165\n",
      "166\n"
     ]
    }
   ],
   "source": [
    "l_err_ic = []\n",
    "b_err_ic = []\n",
    "d_err_ic = []\n",
    "\n",
    "U_err_ic = []\n",
    "V_err_ic = []\n",
    "W_err_ic = []\n",
    "\n",
    "L_ic = []\n",
    "B_ic = []\n",
    "D_ic = []\n",
    "\n",
    "U_ic = []\n",
    "V_ic = []\n",
    "W_ic = []\n",
    "\n",
    "count = 1\n",
    "\n",
    "for row in data_ic:\n",
    "    print(count)\n",
    "    l_err, b_err, d_err, U_err, V_err, W_err = calculate_err(row)\n",
    "    L,B,D, U, V, W= calculate_LBDUVW(row)\n",
    "    \n",
    "    l_err_ic.append(l_err)\n",
    "    b_err_ic.append(b_err)\n",
    "    d_err_ic.append(d_err)\n",
    "    \n",
    "    U_err_ic.append(U_err)\n",
    "    V_err_ic.append(V_err)\n",
    "    W_err_ic.append(W_err)\n",
    "    \n",
    "    L_ic.append(L)\n",
    "    B_ic.append(B)\n",
    "    D_ic.append(D)\n",
    "    \n",
    "    U_ic.append(U)\n",
    "    V_ic.append(V)\n",
    "    W_ic.append(W)\n",
    "    \n",
    "    count += 1"
   ]
  },
  {
   "cell_type": "code",
   "execution_count": 7,
   "metadata": {
    "collapsed": true
   },
   "outputs": [
    {
     "name": "stdout",
     "output_type": "stream",
     "text": [
      "1\n",
      "2\n",
      "3\n",
      "4\n",
      "5\n",
      "6\n",
      "7\n",
      "8\n",
      "9\n",
      "10\n",
      "11\n",
      "12\n",
      "13\n",
      "14\n",
      "15\n",
      "16\n",
      "17\n",
      "18\n",
      "19\n",
      "20\n",
      "21\n",
      "22\n",
      "23\n",
      "24\n",
      "25\n",
      "26\n",
      "27\n",
      "28\n",
      "29\n",
      "30\n",
      "31\n",
      "32\n",
      "33\n",
      "34\n",
      "35\n",
      "36\n",
      "37\n",
      "38\n",
      "39\n",
      "40\n",
      "41\n",
      "42\n",
      "43\n",
      "44\n",
      "45\n",
      "46\n",
      "47\n",
      "48\n"
     ]
    }
   ],
   "source": [
    "l_err_ngc = []\n",
    "b_err_ngc = []\n",
    "d_err_ngc = []\n",
    "\n",
    "U_err_ngc = []\n",
    "V_err_ngc = []\n",
    "W_err_ngc = []\n",
    "\n",
    "L_ngc = []\n",
    "B_ngc = []\n",
    "D_ngc = []\n",
    "\n",
    "U_ngc = []\n",
    "V_ngc = []\n",
    "W_ngc = []\n",
    "\n",
    "count = 1\n",
    "\n",
    "for row in data_ngc:\n",
    "    print(count)\n",
    "    l_err, b_err, d_err, U_err, V_err, W_err = calculate_err(row)\n",
    "    L,B,D,U,V,W = calculate_LBDUVW(row)\n",
    "    \n",
    "    l_err_ngc.append(l_err)\n",
    "    b_err_ngc.append(b_err)\n",
    "    d_err_ngc.append(d_err)\n",
    "    \n",
    "    U_err_ngc.append(U_err)\n",
    "    V_err_ngc.append(V_err)\n",
    "    W_err_ngc.append(W_err)\n",
    "    \n",
    "    L_ngc.append(L)\n",
    "    B_ngc.append(B)\n",
    "    D_ngc.append(D)\n",
    "    \n",
    "    U_ngc.append(U)\n",
    "    V_ngc.append(V)\n",
    "    W_ngc.append(W)\n",
    "    \n",
    "    count += 1"
   ]
  },
  {
   "cell_type": "markdown",
   "metadata": {},
   "source": [
    "## Running Deconvolution"
   ]
  },
  {
   "cell_type": "markdown",
   "metadata": {},
   "source": [
    "##### IC 348"
   ]
  },
  {
   "cell_type": "code",
   "execution_count": 8,
   "metadata": {},
   "outputs": [],
   "source": [
    "X_ic = np.vstack([L_ic, B_ic, D_ic, U_ic, V_ic, W_ic]).T\n",
    "Xerr_ic = np.zeros(X_ic.shape + X_ic.shape[-1:])\n",
    "\n",
    "for i in range(0,len(l_err_ic)):\n",
    "    np.fill_diagonal(Xerr_ic[i], [l_err_ic[i]**2, b_err_ic[i]**2, d_err_ic[i]**2,\n",
    "                              U_err_ic[i]**2, V_err_ic[i]**2, W_err_ic[i]**2])\n",
    "\n",
    "clf_ic = XDGMM(n_components = 2)\n",
    "clf_ic.fit(X_ic, Xerr_ic)\n",
    "\n",
    "mu_ic = clf_ic.mu\n",
    "cov_ic = clf_ic.V\n",
    "alpha_ic = clf_ic.alpha"
   ]
  },
  {
   "cell_type": "code",
   "execution_count": 9,
   "metadata": {},
   "outputs": [],
   "source": [
    "# select main cluster\n",
    "amp_mask_ic = alpha_ic > .5\n",
    "\n",
    "mean_ic = mu_ic[amp_mask_ic][0]\n",
    "sigma_ic = np.sqrt(np.diagonal(cov_ic[amp_mask_ic][0]))"
   ]
  },
  {
   "cell_type": "markdown",
   "metadata": {},
   "source": [
    "##### NGC 1333"
   ]
  },
  {
   "cell_type": "code",
   "execution_count": 10,
   "metadata": {},
   "outputs": [],
   "source": [
    "X_ngc = np.vstack([L_ngc, B_ngc, D_ngc, U_ngc, V_ngc, W_ngc]).T\n",
    "Xerr_ngc = np.zeros(X_ngc.shape + X_ngc.shape[-1:])\n",
    "\n",
    "for i in range(0,len(l_err_ngc)):\n",
    "    np.fill_diagonal(Xerr_ngc[i], [l_err_ngc[i]**2, b_err_ngc[i]**2, d_err_ngc[i]**2,\n",
    "                              U_err_ngc[i]**2, V_err_ngc[i]**2, W_err_ngc[i]**2])\n",
    "\n",
    "clf_ngc = XDGMM(n_components = 2)\n",
    "clf_ngc.fit(X_ngc, Xerr_ngc)\n",
    "\n",
    "mu_ngc = clf_ngc.mu\n",
    "cov_ngc = clf_ngc.V\n",
    "alpha_ngc = clf_ngc.alpha"
   ]
  },
  {
   "cell_type": "code",
   "execution_count": 11,
   "metadata": {},
   "outputs": [],
   "source": [
    "# select main cluster\n",
    "amp_mask_ngc = alpha_ngc > .5\n",
    "\n",
    "mean_ngc = mu_ngc[amp_mask_ngc][0]\n",
    "sigma_ngc = np.sqrt(np.diagonal(cov_ngc[amp_mask_ngc][0]))"
   ]
  },
  {
   "cell_type": "markdown",
   "metadata": {},
   "source": [
    "## Deconvolution Results"
   ]
  },
  {
   "cell_type": "code",
   "execution_count": 13,
   "metadata": {},
   "outputs": [
    {
     "name": "stdout",
     "output_type": "stream",
     "text": [
      "IC 348 summary\n",
      "means   L:160.4892413425805 --  B:-17.80876937457776 -- D:315.2470816561538\n",
      "        U:-16.701330889480783 --  V:-6.145498186382202 --  W:-7.582557065016388\n",
      "        u:-5.601330889480785 -- v:6.094501813617823 -- w:-0.33255706501639004\n",
      "sigma   L:0.08494058638784946 --  B:0.05237350424882814 -- D:7.103391755451349\n",
      "        U:1.1102263132510637 --  V:1.165861951866328 --  W:0.9606088985480086\n",
      "\n",
      "NGC 1333 summary\n",
      "means   L:158.3159702616971 --  B:-20.472365874315546 -- D:296.720765776094\n",
      "        U:-16.835271565656218 --  V:-10.984136986743056 --  W:-9.736973336851882\n",
      "        u:-5.73527156565622 -- v:1.2558630132569686 -- w:-2.486973336851884\n",
      "sigma   L:0.05039372944450675 --  B:0.07191893183272671 -- D:8.862305589804084\n",
      "        U:1.0129897927427556 --  V:1.603970704666745 --  W:0.7959778899041949\n"
     ]
    }
   ],
   "source": [
    "print(\"IC 348 summary\")\n",
    "print(f\"means   L:{mean_ic[0]} --  B:{mean_ic[1]} -- D:{mean_ic[2]}\")\n",
    "print(f\"        U:{mean_ic[3]} --  V:{mean_ic[4]} --  W:{mean_ic[5]}\")\n",
    "print(f\"        u:{mean_ic[3] - osun.U()} -- v:{mean_ic[4] - osun.V()} -- w:{mean_ic[5] - osun.W()}\")\n",
    "print(f\"sigma   L:{sigma_ic[0]} --  B:{sigma_ic[1]} -- D:{sigma_ic[2]}\")\n",
    "print(f\"        U:{sigma_ic[3]} --  V:{sigma_ic[4]} --  W:{sigma_ic[5]}\")\n",
    "\n",
    "print(\"\")\n",
    "\n",
    "print(\"NGC 1333 summary\")\n",
    "print(f\"means   L:{mean_ngc[0]} --  B:{mean_ngc[1]} -- D:{mean_ngc[2]}\")\n",
    "print(f\"        U:{mean_ngc[3]} --  V:{mean_ngc[4]} --  W:{mean_ngc[5]}\")\n",
    "print(f\"        u:{mean_ngc[3] - osun.U()} -- v:{mean_ngc[4] - osun.V()} -- w:{mean_ngc[5] - osun.W()}\")\n",
    "print(f\"sigma   L:{sigma_ngc[0]} --  B:{sigma_ngc[1]} -- D:{sigma_ngc[2]}\")\n",
    "print(f\"        U:{sigma_ngc[3]} --  V:{sigma_ngc[4]} --  W:{sigma_ngc[5]}\")\n"
   ]
  },
  {
   "cell_type": "markdown",
   "metadata": {},
   "source": [
    "## Exporting Results"
   ]
  },
  {
   "cell_type": "code",
   "execution_count": 18,
   "metadata": {},
   "outputs": [],
   "source": [
    "t = Table()\n",
    "t[\"cluster\"] = [\"IC 348\", \"NGC 1333\"]\n",
    "t[\"L\"] = [mean_ic[0], mean_ngc[0]]\n",
    "t[\"B\"] = [mean_ic[1], mean_ngc[1]]\n",
    "t[\"D\"] = [mean_ic[2], mean_ngc[2]]\n",
    "t[\"L_err\"] = [sigma_ic[0], sigma_ngc[0]]\n",
    "t[\"B_err\"] = [sigma_ic[1], sigma_ngc[1]]\n",
    "t[\"D_err\"] = [sigma_ic[2], sigma_ngc[2]]\n",
    "t[\"U\"] = [mean_ic[3], mean_ngc[3]]\n",
    "t[\"V\"] = [mean_ic[4], mean_ngc[4]]\n",
    "t[\"W\"] = [mean_ic[5], mean_ngc[5]]\n",
    "t[\"U_err\"] = [sigma_ic[3], sigma_ngc[3]]\n",
    "t[\"V_err\"] = [sigma_ic[4], sigma_ngc[4]]\n",
    "t[\"W_err\"] = [sigma_ic[5], sigma_ngc[5]]\n",
    "t[\"UVW_dispersion\"] = [np.sqrt(sigma_ic[3]**2 + sigma_ic[4]**2 + sigma_ic[5]**2), \n",
    "                       np.sqrt(sigma_ngc[3]**2 + sigma_ngc[4]**2 + sigma_ngc[5]**2)]\n",
    "t[\"u\"] = [mean_ic[3] - osun.U(), mean_ngc[3] - osun.U()]\n",
    "t[\"v\"] = [mean_ic[4] - osun.V(), mean_ngc[4] - osun.V()]\n",
    "t[\"w\"] = [mean_ic[5] - osun.W(), mean_ngc[5] - osun.W()]"
   ]
  },
  {
   "cell_type": "code",
   "execution_count": 19,
   "metadata": {},
   "outputs": [
    {
     "data": {
      "text/html": [
       "<i>Table length=2</i>\n",
       "<table id=\"table47523278229776\" class=\"table-striped table-bordered table-condensed\">\n",
       "<thead><tr><th>cluster</th><th>L</th><th>B</th><th>D</th><th>L_err</th><th>B_err</th><th>D_err</th><th>U</th><th>V</th><th>W</th><th>U_err</th><th>V_err</th><th>W_err</th><th>UVW_dispersion</th><th>u</th><th>v</th><th>w</th></tr></thead>\n",
       "<thead><tr><th>str8</th><th>float64</th><th>float64</th><th>float64</th><th>float64</th><th>float64</th><th>float64</th><th>float64</th><th>float64</th><th>float64</th><th>float64</th><th>float64</th><th>float64</th><th>float64</th><th>float64</th><th>float64</th><th>float64</th></tr></thead>\n",
       "<tr><td>IC 348</td><td>160.4892413425805</td><td>-17.80876937457776</td><td>315.2470816561538</td><td>0.08494058638784946</td><td>0.05237350424882814</td><td>7.103391755451349</td><td>-16.701330889480783</td><td>-6.145498186382202</td><td>-7.582557065016388</td><td>1.1102263132510637</td><td>1.165861951866328</td><td>0.9606088985480086</td><td>1.874728250551058</td><td>-5.601330889480785</td><td>6.094501813617823</td><td>-0.33255706501639004</td></tr>\n",
       "<tr><td>NGC 1333</td><td>158.3159702616971</td><td>-20.472365874315546</td><td>296.720765776094</td><td>0.05039372944450675</td><td>0.07191893183272671</td><td>8.862305589804084</td><td>-16.835271565656218</td><td>-10.984136986743056</td><td>-9.736973336851882</td><td>1.0129897927427556</td><td>1.603970704666745</td><td>0.7959778899041949</td><td>2.0572921870377283</td><td>-5.73527156565622</td><td>1.2558630132569686</td><td>-2.486973336851884</td></tr>\n",
       "</table>"
      ],
      "text/plain": [
       "<Table length=2>\n",
       "cluster          L         ...         v                   w          \n",
       "  str8        float64      ...      float64             float64       \n",
       "-------- ----------------- ... ------------------ --------------------\n",
       "  IC 348 160.4892413425805 ...  6.094501813617823 -0.33255706501639004\n",
       "NGC 1333 158.3159702616971 ... 1.2558630132569686   -2.486973336851884"
      ]
     },
     "execution_count": 19,
     "metadata": {},
     "output_type": "execute_result"
    }
   ],
   "source": [
    "t"
   ]
  },
  {
   "cell_type": "code",
   "execution_count": 20,
   "metadata": {},
   "outputs": [],
   "source": [
    "t.write(\"data/outputs/deconvolution_results.csv\", format = \"csv\", overwrite=True)"
   ]
  }
 ],
 "metadata": {
  "kernelspec": {
   "display_name": "Python [conda env:.conda-standard]",
   "language": "python",
   "name": "conda-env-.conda-standard-py"
  },
  "language_info": {
   "codemirror_mode": {
    "name": "ipython",
    "version": 3
   },
   "file_extension": ".py",
   "mimetype": "text/x-python",
   "name": "python",
   "nbconvert_exporter": "python",
   "pygments_lexer": "ipython3",
   "version": "3.7.9"
  }
 },
 "nbformat": 4,
 "nbformat_minor": 4
}
