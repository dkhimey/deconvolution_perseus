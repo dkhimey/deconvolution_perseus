{
 "cells": [
  {
   "cell_type": "code",
   "execution_count": 1,
   "metadata": {},
   "outputs": [],
   "source": [
    "from astropy.io import fits\n",
    "import astropy.units as u\n",
    "from astropy.constants import G\n",
    "from astropy.table import Table\n",
    "\n",
    "import numpy as np"
   ]
  },
  {
   "cell_type": "code",
   "execution_count": 2,
   "metadata": {},
   "outputs": [],
   "source": [
    "ic_data, header = fits.getdata(\"data/outputs/perseus_ic348_only.fits\",header=True)\n",
    "ngc_data, header = fits.getdata(\"data/outputs/perseus_ngc1333_only.fits\",header=True)"
   ]
  },
  {
   "cell_type": "code",
   "execution_count": 3,
   "metadata": {},
   "outputs": [],
   "source": [
    "stats = Table.read(\"data/outputs/deconvolution_results.csv\", format = \"csv\")"
   ]
  },
  {
   "cell_type": "markdown",
   "metadata": {},
   "source": [
    "## Mass Calculations"
   ]
  },
  {
   "cell_type": "code",
   "execution_count": 4,
   "metadata": {},
   "outputs": [],
   "source": [
    "# voxel to mass conversion\n",
    "def get_mass(data):\n",
    "    return np.sum(data * (1.37 * (1.6726231 * (10**(-24))) * 2.938 * (10 ** (55)))) * (5.02785 * (10**(-34)))"
   ]
  },
  {
   "cell_type": "code",
   "execution_count": 5,
   "metadata": {},
   "outputs": [],
   "source": [
    "ic_mass = get_mass(ic_data)\n",
    "ngc_mass = get_mass(ngc_data)"
   ]
  },
  {
   "cell_type": "code",
   "execution_count": 30,
   "metadata": {},
   "outputs": [
    {
     "name": "stdout",
     "output_type": "stream",
     "text": [
      "$M$\n"
     ]
    }
   ],
   "source": [
    "print(r\"$M$\")"
   ]
  },
  {
   "cell_type": "code",
   "execution_count": 31,
   "metadata": {},
   "outputs": [
    {
     "name": "stdout",
     "output_type": "stream",
     "text": [
      "IC 348 Gas Mass 5.911511327850987 M_sun\n",
      "NGC 1333 Gas Mass 37.576070601517706 M_sun\n"
     ]
    }
   ],
   "source": [
    "print(f\"IC 348 Gas Mass {ic_mass} M_sun\")\n",
    "print(f\"NGC 1333 Gas Mass {ngc_mass} M_sun\")"
   ]
  },
  {
   "cell_type": "markdown",
   "metadata": {},
   "source": [
    "## Dispersion Calculations"
   ]
  },
  {
   "cell_type": "code",
   "execution_count": 8,
   "metadata": {},
   "outputs": [],
   "source": [
    "def predicted_dispersion(M, rhm) :\n",
    "    n = 10 #see Cottaar et al. 2015\n",
    "    return np.sqrt((M*G)/(n * rhm)).to(u.km / u.s)\n",
    "\n",
    "def predicted_3ddispersion(M, rhm) :\n",
    "    n = 10 #see Cottaar et al. 2015\n",
    "    return np.sqrt((3*M*G)/(n * rhm)).to(u.km / u.s)"
   ]
  },
  {
   "cell_type": "code",
   "execution_count": 9,
   "metadata": {},
   "outputs": [],
   "source": [
    "def real_dispersion(idx): #idx == 0 for IC 348; idx ==1 for NGC 1333\n",
    "    return stats[\"UVW_dispersion\"][idx]"
   ]
  },
  {
   "cell_type": "markdown",
   "metadata": {},
   "source": [
    "##### IC 348"
   ]
  },
  {
   "cell_type": "code",
   "execution_count": 10,
   "metadata": {},
   "outputs": [],
   "source": [
    "ic_M_stellar = 204 * u.solMass # see Cottaar et al. 2015\n",
    "ic_M_gas = ic_mass * u.solMass\n",
    "ic_rhm = 0.47 * u.pc # see Cottaar et al. 2015\n",
    "ic_corrected = 6.3/60 * (np.pi/180)*stats['D'][0] * u.pc\n",
    "ic_rhm = stats['L_err'][0] * (np.pi/180)*stats['D'][0] * u.pc # calculated using ellipse width and distance\n",
    "\n",
    "ic_M = ic_M_stellar.to(u.kg) + ic_M_gas.to(u.kg)\n",
    "ic_R = ic_rhm.to(u.m)"
   ]
  },
  {
   "cell_type": "code",
   "execution_count": 21,
   "metadata": {},
   "outputs": [],
   "source": [
    "ic_real3d = real_dispersion(0)\n",
    "ic_pred3d = predicted_3ddispersion(ic_M, ic_R)\n",
    "ic_pred1d = predicted_dispersion(ic_M, ic_R)"
   ]
  },
  {
   "cell_type": "markdown",
   "metadata": {},
   "source": [
    "##### NGC 1333"
   ]
  },
  {
   "cell_type": "code",
   "execution_count": 16,
   "metadata": {},
   "outputs": [],
   "source": [
    "ngc_M_stellar = 102 * u.solMass # see Foster et al. 2015\n",
    "ngc_M_gas = ngc_mass * u.solMass\n",
    "# ngc_rhm = 0.97 * u. pc # see Foster et al. 2015\n",
    "ngc_rhm = stats['L_err'][1] * (np.pi/180)*stats['D'][1] * u.pc # calculated using ellipse width and distance\n",
    "\n",
    "ngc_M = ngc_M_stellar.to(u.kg) + ngc_M_gas.to(u.kg)\n",
    "ngc_R = ngc_rhm.to(u.m)"
   ]
  },
  {
   "cell_type": "code",
   "execution_count": 22,
   "metadata": {},
   "outputs": [],
   "source": [
    "ngc_real3d = real_dispersion(1)\n",
    "ngc_pred3d = predicted_3ddispersion(ngc_M, ngc_R)\n",
    "ngc_pred1d = predicted_dispersion(ngc_M, ngc_R)"
   ]
  },
  {
   "cell_type": "code",
   "execution_count": 20,
   "metadata": {},
   "outputs": [
    {
     "name": "stdout",
     "output_type": "stream",
     "text": [
      "NGC 1333 real 3D:      2.0572921870377283\n",
      "NGC 1333 Predicted 3D: 0.8307029471723544 km / s\n",
      "IC 348 real 3D:        1.874728250551058\n",
      "IC 348 Predicted 3D:   0.761267783197558 km / s\n"
     ]
    }
   ],
   "source": [
    "print(f\"NGC 1333 real 3D:      {ngc_real3d}\")\n",
    "print(f\"NGC 1333 Predicted 3D: {ngc_pred3d}\")\n",
    "\n",
    "print(f\"IC 348 real 3D:        {ic_real3d}\")\n",
    "print(f\"IC 348 Predicted 3D:   {ic_pred3d}\")"
   ]
  },
  {
   "cell_type": "markdown",
   "metadata": {},
   "source": [
    "## Bounded-ness"
   ]
  },
  {
   "cell_type": "code",
   "execution_count": null,
   "metadata": {},
   "outputs": [],
   "source": [
    "# r_vel deconvolution:\n",
    "# IC 348: 0.67956875\n",
    "# NGC 1333: 0.99079429"
   ]
  },
  {
   "cell_type": "code",
   "execution_count": 23,
   "metadata": {},
   "outputs": [
    {
     "data": {
      "text/latex": [
       "$0.47960657 \\; \\mathrm{\\frac{km}{s}}$"
      ],
      "text/plain": [
       "<Quantity 0.47960657 km / s>"
      ]
     },
     "execution_count": 23,
     "metadata": {},
     "output_type": "execute_result"
    }
   ],
   "source": [
    "ngc_pred1d"
   ]
  },
  {
   "cell_type": "code",
   "execution_count": 24,
   "metadata": {},
   "outputs": [
    {
     "data": {
      "text/latex": [
       "$0.43951816 \\; \\mathrm{\\frac{km}{s}}$"
      ],
      "text/plain": [
       "<Quantity 0.43951816 km / s>"
      ]
     },
     "execution_count": 24,
     "metadata": {},
     "output_type": "execute_result"
    }
   ],
   "source": [
    "ic_pred1d"
   ]
  }
 ],
 "metadata": {
  "kernelspec": {
   "display_name": "Python [conda env:.conda-standard]",
   "language": "python",
   "name": "conda-env-.conda-standard-py"
  },
  "language_info": {
   "codemirror_mode": {
    "name": "ipython",
    "version": 3
   },
   "file_extension": ".py",
   "mimetype": "text/x-python",
   "name": "python",
   "nbconvert_exporter": "python",
   "pygments_lexer": "ipython3",
   "version": "3.7.9"
  }
 },
 "nbformat": 4,
 "nbformat_minor": 4
}
