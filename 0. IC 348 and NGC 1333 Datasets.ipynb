{
 "cells": [
  {
   "cell_type": "code",
   "execution_count": 1,
   "metadata": {},
   "outputs": [],
   "source": [
    "from astropy.io import fits\n",
    "from astropy.table import Table"
   ]
  },
  {
   "cell_type": "code",
   "execution_count": 2,
   "metadata": {},
   "outputs": [],
   "source": [
    "t = Table.read('data/kounkel_2019_apogee.csv')\n",
    "ic_mask = fits.getdata(\"data/ic348_kounkel_mask.fits\").astype(bool) # cut to focus on IC348 field\n",
    "ngc_mask = fits.getdata(\"data/ngc1333_kounkel_mask.fits\").astype(bool)"
   ]
  },
  {
   "cell_type": "code",
   "execution_count": 3,
   "metadata": {},
   "outputs": [],
   "source": [
    "flag1 = t['e_RV'] < 0.5 #error cut on radial velocity\n",
    "flag2 = (t['Vrot'] > 5) & (t['Vrot'] < 150) #cut on vsini \n",
    "flag3 = t['SB2']==1 #flag to ensure star is not a binary\n",
    "flag4 = t['YSO'] > 0 #cut to make sure the star is a YSO\n",
    "\n",
    "flag5_ic = (t['RV'] > 13) & (t['RV']<17) #cut on velocity outliers -- can be tweaked\n",
    "flag5_ngc = (t['RV'] > 12.5) & (t['RV'] < 17.5) \n",
    "\n",
    "flag6 = (t['parallax'] > 2.5) & (t['parallax'] < 4)\n",
    "\n",
    "#flag6 = potential cut on distance from cluster center?\n",
    "\n",
    "\n",
    "flags = flag1 & flag2 & flag3 & flag4 & flag6\n",
    "ic_flags = ic_mask & flags & flag5_ic\n",
    "ngc_flags = ngc_mask & flags & flag5_ngc"
   ]
  },
  {
   "cell_type": "code",
   "execution_count": 4,
   "metadata": {},
   "outputs": [],
   "source": [
    "data_ic = t[ic_flags]\n",
    "data_ngc = t[ngc_flags]\n",
    "\n",
    "data_ic = data_ic.filled()\n",
    "data_ngc = data_ngc.filled()"
   ]
  },
  {
   "cell_type": "markdown",
   "metadata": {},
   "source": [
    "## Exporting Data Files"
   ]
  },
  {
   "cell_type": "code",
   "execution_count": 5,
   "metadata": {},
   "outputs": [],
   "source": [
    "data_ic.write(\"data/ic348_apogee.csv\", overwrite=True)\n",
    "data_ngc.write(\"data/ngc1333_apogee.csv\", overwrite=True)"
   ]
  }
 ],
 "metadata": {
  "kernelspec": {
   "display_name": "Python [conda env:.conda-standard]",
   "language": "python",
   "name": "conda-env-.conda-standard-py"
  },
  "language_info": {
   "codemirror_mode": {
    "name": "ipython",
    "version": 3
   },
   "file_extension": ".py",
   "mimetype": "text/x-python",
   "name": "python",
   "nbconvert_exporter": "python",
   "pygments_lexer": "ipython3",
   "version": "3.7.9"
  }
 },
 "nbformat": 4,
 "nbformat_minor": 4
}
