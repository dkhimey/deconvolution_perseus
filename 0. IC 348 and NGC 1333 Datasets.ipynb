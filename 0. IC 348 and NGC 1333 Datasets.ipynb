{
 "cells": [
  {
   "cell_type": "code",
   "execution_count": 1,
   "metadata": {},
   "outputs": [],
   "source": [
    "from astropy.io import fits\n",
    "from astropy.table import Table\n",
    "import numpy as np"
   ]
  },
  {
   "cell_type": "code",
   "execution_count": 2,
   "metadata": {},
   "outputs": [],
   "source": [
    "t = Table.read('data/inputs/kounkel_2019_apogee.csv')"
   ]
  },
  {
   "cell_type": "code",
   "execution_count": 3,
   "metadata": {},
   "outputs": [],
   "source": [
    "ic_mask = t['Cluster'] == \"IC 348\"\n",
    "ngc_mask = t['Cluster'] == 'NGC 1333'\n",
    "\n",
    "flag1_ic = (t['RV']<25) & (t['RV']>10)\n",
    "flag1_ngc = (t['RV']<25) & (t['RV']>5)\n",
    "\n",
    "flag2_ic = (t['pmra']<10) & (t['pmra']>0)\n",
    "flag2_ngc = (t['pmra']<20) & (t['pmra']>5)\n",
    "\n",
    "flag3_ic = (t['pmdec'])<0 & (t['pmdec']>-15)\n",
    "flag3_ngc = (t['pmdec'])<0 & (t['pmdec']>-20)\n",
    "\n",
    "flag4_ic = (t['parallax']<5) & (t['parallax']>1.5)\n",
    "flag4_ngc = (t['parallax']<6) & (t['parallax']>2)\n",
    "\n",
    "flag_5 = t['ruwe']<1.4\n",
    "\n",
    "flag_6 = t['pmra'].filled() < 1*10**20\n",
    "\n",
    "ngc_cen = 158.3430, -20.5052 #simbad\n",
    "ic_cen = 160.4899, -17.8022 #simbad\n",
    "flag7_ic = np.sqrt((t['_Glon'].data-ic_cen[0])**2. + (t['_Glat'].data-ic_cen[1])**2.) < 0.33\n",
    "flag7_ngc = np.sqrt((t['_Glon'].data-ngc_cen[0])**2. + (t['_Glat'].data-ngc_cen[1])**2.) < 0.33\n",
    "\n",
    "\n",
    "flag8 = (t['Vrot'] > 5) & (t['Vrot'] < 150) #cut on vsini \n",
    "flag9 = t['SB2']==1 #flag to ensure star is not a binary\n",
    "flag10 = t['YSO'] > 0 #cut to make sure the star is a YSO\n",
    "\n",
    "ic_flags = flag1_ic & flag2_ic & flag3_ic & flag4_ic & flag_5 & flag_6 & flag7_ic & ic_mask & flag8 & flag9 & flag10\n",
    "ngc_flags = flag1_ngc & flag2_ngc & flag3_ngc & flag4_ngc & flag_5 & flag_6 & flag7_ngc & ngc_mask& flag8 & flag9 & flag10"
   ]
  },
  {
   "cell_type": "code",
   "execution_count": 4,
   "metadata": {},
   "outputs": [],
   "source": [
    "data_ic = t[ic_flags]\n",
    "data_ngc = t[ngc_flags]\n",
    "\n",
    "data_ic = data_ic.filled()\n",
    "data_ngc = data_ngc.filled()"
   ]
  },
  {
   "cell_type": "markdown",
   "metadata": {},
   "source": [
    "## Exporting Data Files"
   ]
  },
  {
   "cell_type": "code",
   "execution_count": 5,
   "metadata": {},
   "outputs": [],
   "source": [
    "data_ic.write(\"data/outputs/ic348_apogee.csv\", overwrite=True)\n",
    "data_ngc.write(\"data/outputs/ngc1333_apogee.csv\", overwrite=True)"
   ]
  }
 ],
 "metadata": {
  "kernelspec": {
   "display_name": "Python [conda env:.conda-standard]",
   "language": "python",
   "name": "conda-env-.conda-standard-py"
  },
  "language_info": {
   "codemirror_mode": {
    "name": "ipython",
    "version": 3
   },
   "file_extension": ".py",
   "mimetype": "text/x-python",
   "name": "python",
   "nbconvert_exporter": "python",
   "pygments_lexer": "ipython3",
   "version": "3.7.9"
  }
 },
 "nbformat": 4,
 "nbformat_minor": 4
}
