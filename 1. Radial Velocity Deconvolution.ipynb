{
 "cells": [
  {
   "cell_type": "code",
   "execution_count": 1,
   "metadata": {},
   "outputs": [],
   "source": [
    "import numpy as np\n",
    "\n",
    "from astropy.io import fits\n",
    "from astropy.table import Table\n",
    "\n",
    "from astroML.density_estimation import XDGMM"
   ]
  },
  {
   "cell_type": "markdown",
   "metadata": {},
   "source": [
    "## Load Data"
   ]
  },
  {
   "cell_type": "code",
   "execution_count": 2,
   "metadata": {},
   "outputs": [],
   "source": [
    "data_ic = Table.read(\"data/outputs/ic348_apogee.csv\")\n",
    "data_ngc = Table.read(\"data/outputs/ngc1333_apogee.csv\")"
   ]
  },
  {
   "cell_type": "markdown",
   "metadata": {},
   "source": [
    "## Run Deconvolution"
   ]
  },
  {
   "cell_type": "markdown",
   "metadata": {},
   "source": [
    "#### IC 348\n",
    "$\\textit{set up array}$"
   ]
  },
  {
   "cell_type": "code",
   "execution_count": 3,
   "metadata": {},
   "outputs": [],
   "source": [
    "X_ic = np.vstack([data_ic['RV']]).T\n",
    "Xerr_ic = np.zeros(X_ic.shape + X_ic.shape[-1:])\n",
    "\n",
    "for i in range(0,data_ic['e_RV'].shape[0]):\n",
    "    np.fill_diagonal(Xerr_ic[i],[data_ic['e_RV'][i]**2])"
   ]
  },
  {
   "cell_type": "markdown",
   "metadata": {},
   "source": [
    "$\\textit{run deconvolution}$"
   ]
  },
  {
   "cell_type": "code",
   "execution_count": 4,
   "metadata": {},
   "outputs": [
    {
     "name": "stderr",
     "output_type": "stream",
     "text": [
      "/n/home07/dkhimey/.conda/envs/standard/lib/python3.7/site-packages/sklearn/mixture/_base.py:269: ConvergenceWarning: Initialization 1 did not converge. Try different init parameters, or increase max_iter, tol or check for degenerate data.\n",
      "  % (init + 1), ConvergenceWarning)\n"
     ]
    }
   ],
   "source": [
    "clf_ic = XDGMM(n_components = 2)\n",
    "clf_ic.fit(X_ic, Xerr_ic)\n",
    "\n",
    "mu_ic = clf_ic.mu\n",
    "V_ic = clf_ic.V\n",
    "alpha_ic = clf_ic.alpha"
   ]
  },
  {
   "cell_type": "markdown",
   "metadata": {},
   "source": [
    "$\\textit{gaussian results}$"
   ]
  },
  {
   "cell_type": "code",
   "execution_count": 5,
   "metadata": {},
   "outputs": [
    {
     "name": "stdout",
     "output_type": "stream",
     "text": [
      "Amplitudes:\n",
      "[0.09360448 0.90639552]\n"
     ]
    }
   ],
   "source": [
    "print(f\"Amplitudes:\\n{alpha_ic}\")"
   ]
  },
  {
   "cell_type": "code",
   "execution_count": 6,
   "metadata": {},
   "outputs": [],
   "source": [
    "# select main cluster\n",
    "amp_mask_ic = alpha_ic > .5\n",
    "\n",
    "mean_ic = mu_ic[amp_mask_ic]\n",
    "sigma_ic = np.sqrt(V_ic[amp_mask_ic])"
   ]
  },
  {
   "cell_type": "markdown",
   "metadata": {},
   "source": [
    "#### NGC 1333\n",
    "$\\textit{set up array}$"
   ]
  },
  {
   "cell_type": "code",
   "execution_count": 7,
   "metadata": {},
   "outputs": [],
   "source": [
    "X_ngc = np.vstack([data_ngc['RV']]).T\n",
    "Xerr_ngc = np.zeros(X_ngc.shape + X_ngc.shape[-1:])\n",
    "\n",
    "for i in range(0,data_ngc['e_RV'].shape[0]):\n",
    "    np.fill_diagonal(Xerr_ngc[i],[data_ngc['e_RV'][i]**2])"
   ]
  },
  {
   "cell_type": "markdown",
   "metadata": {},
   "source": [
    "$\\textit{run deconvolution}$"
   ]
  },
  {
   "cell_type": "code",
   "execution_count": 8,
   "metadata": {},
   "outputs": [
    {
     "name": "stderr",
     "output_type": "stream",
     "text": [
      "/n/home07/dkhimey/.conda/envs/standard/lib/python3.7/site-packages/sklearn/mixture/_base.py:269: ConvergenceWarning: Initialization 1 did not converge. Try different init parameters, or increase max_iter, tol or check for degenerate data.\n",
      "  % (init + 1), ConvergenceWarning)\n"
     ]
    }
   ],
   "source": [
    "clf_ngc = XDGMM(n_components = 2)\n",
    "clf_ngc.fit(X_ngc, Xerr_ngc)\n",
    "\n",
    "mu_ngc = clf_ngc.mu\n",
    "V_ngc = clf_ngc.V\n",
    "alpha_ngc = clf_ngc.alpha"
   ]
  },
  {
   "cell_type": "markdown",
   "metadata": {},
   "source": [
    "$\\textit{gaussian results}$"
   ]
  },
  {
   "cell_type": "code",
   "execution_count": 9,
   "metadata": {},
   "outputs": [
    {
     "name": "stdout",
     "output_type": "stream",
     "text": [
      "Amplitudes:\n",
      "[0.97916654 0.02083346]\n"
     ]
    }
   ],
   "source": [
    "print(f\"Amplitudes:\\n{alpha_ngc}\")"
   ]
  },
  {
   "cell_type": "code",
   "execution_count": 10,
   "metadata": {},
   "outputs": [],
   "source": [
    "# select main cluster\n",
    "amp_mask_ngc = alpha_ngc > .5\n",
    "\n",
    "mean_ngc = mu_ngc[amp_mask_ngc]\n",
    "sigma_ngc = np.sqrt(V_ngc[amp_mask_ngc])"
   ]
  },
  {
   "cell_type": "markdown",
   "metadata": {},
   "source": [
    "## Summary "
   ]
  },
  {
   "cell_type": "code",
   "execution_count": 11,
   "metadata": {
    "scrolled": true
   },
   "outputs": [
    {
     "name": "stdout",
     "output_type": "stream",
     "text": [
      "IC 348 Dispersion\n",
      "Rvel mean    : [[15.14131764]]\n",
      "Rvel sigma   : [[[0.67956875]]]\n",
      "NGC 1333 Dispersion\n",
      "Rvel mean    : [[14.28832179]]\n",
      "Rvel sigma   : [[[0.99079429]]]\n"
     ]
    }
   ],
   "source": [
    "print(\"IC 348 Dispersion\")\n",
    "print(f\"Rvel mean    : {mean_ic}\")\n",
    "print(f\"Rvel sigma   : {sigma_ic}\")\n",
    "\n",
    "print(\"NGC 1333 Dispersion\")\n",
    "print(f\"Rvel mean    : {mean_ngc}\")\n",
    "print(f\"Rvel sigma   : {sigma_ngc}\")"
   ]
  },
  {
   "cell_type": "markdown",
   "metadata": {},
   "source": [
    "Cottaar et al (2015), sigma IC 348 : 0.72 ± 0.07 km/s"
   ]
  },
  {
   "cell_type": "markdown",
   "metadata": {},
   "source": [
    "Foster et al (2015), sigma NGC 1333 : 0.92 ± 0.12 km/s"
   ]
  }
 ],
 "metadata": {
  "kernelspec": {
   "display_name": "Python [conda env:.conda-standard]",
   "language": "python",
   "name": "conda-env-.conda-standard-py"
  },
  "language_info": {
   "codemirror_mode": {
    "name": "ipython",
    "version": 3
   },
   "file_extension": ".py",
   "mimetype": "text/x-python",
   "name": "python",
   "nbconvert_exporter": "python",
   "pygments_lexer": "ipython3",
   "version": "3.7.9"
  }
 },
 "nbformat": 4,
 "nbformat_minor": 4
}
