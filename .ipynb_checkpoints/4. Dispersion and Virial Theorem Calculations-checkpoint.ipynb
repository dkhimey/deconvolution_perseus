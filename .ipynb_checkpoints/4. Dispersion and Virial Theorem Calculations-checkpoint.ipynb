{
 "cells": [
  {
   "cell_type": "code",
   "execution_count": 1,
   "metadata": {},
   "outputs": [],
   "source": [
    "from astropy.io import fits\n",
    "import astropy.units as u\n",
    "from astropy.constants import G\n",
    "from astropy.table import Table\n",
    "\n",
    "import numpy as np"
   ]
  },
  {
   "cell_type": "code",
   "execution_count": 2,
   "metadata": {},
   "outputs": [],
   "source": [
    "ic_data, header = fits.getdata(\"data/perseus_ic348_only.fits\",header=True)\n",
    "ngc_data, header = fits.getdata(\"data/perseus_ngc1333_only.fits\",header=True)"
   ]
  },
  {
   "cell_type": "code",
   "execution_count": 3,
   "metadata": {},
   "outputs": [],
   "source": [
    "stats = Table.read(\"data/deconvolution_results.csv\", format = \"csv\")"
   ]
  },
  {
   "cell_type": "markdown",
   "metadata": {},
   "source": [
    "## Mass Calculations"
   ]
  },
  {
   "cell_type": "code",
   "execution_count": 4,
   "metadata": {},
   "outputs": [],
   "source": [
    "# voxel to mass conversion\n",
    "def get_mass(data):\n",
    "    return np.sum(data * (1.37 * (1.6726231 * (10**(-24))) * 2.938 * (10 ** (55)))) * (5.02785 * (10**(-34)))"
   ]
  },
  {
   "cell_type": "code",
   "execution_count": 5,
   "metadata": {},
   "outputs": [],
   "source": [
    "ic_mass = get_mass(ic_data)\n",
    "ngc_mass = get_mass(ngc_data)"
   ]
  },
  {
   "cell_type": "code",
   "execution_count": 6,
   "metadata": {},
   "outputs": [
    {
     "name": "stdout",
     "output_type": "stream",
     "text": [
      "IC 348 Mass 46.3602006563755\n",
      "NGC 1333 Mass 244.98005677134606\n"
     ]
    }
   ],
   "source": [
    "print(f\"IC 348 Mass {ic_mass}\")\n",
    "print(f\"NGC 1333 Mass {ngc_mass}\")"
   ]
  },
  {
   "cell_type": "markdown",
   "metadata": {},
   "source": [
    "## Dispersion Calculations"
   ]
  },
  {
   "cell_type": "code",
   "execution_count": 7,
   "metadata": {},
   "outputs": [],
   "source": [
    "def predicted_3d(M, rhm) :\n",
    "    n = 10 #see Cottaar et al. 2015\n",
    "    return np.sqrt((3*M*G)/(n * rhm)).to(u.km / u.s)\n",
    "def predicted_1d(M, rhm) :\n",
    "    n = 10 #see Cottaar et al. 2015\n",
    "    return np.sqrt((M*G)/(n * rhm)).to(u.km / u.s)"
   ]
  },
  {
   "cell_type": "markdown",
   "metadata": {},
   "source": [
    "##### IC 348"
   ]
  },
  {
   "cell_type": "code",
   "execution_count": 8,
   "metadata": {},
   "outputs": [],
   "source": [
    "ic_M_stellar = 204 * u.solMass # see Cottaar et al. 2015\n",
    "ic_M_gas = ic_mass * u.solMass\n",
    "ic_rhm = 0.47 * u.pc # see Cottaar et al. 2015\n",
    "ic_corrected = 6.3/60 * (np.pi/180)*stats['D'][0] * u.pc\n",
    "ic_rhm = stats['L_err'][0] * (np.pi/180)*stats['D'][0] * u.pc # calculated using ellipse width and distance\n",
    "\n",
    "ic_M = ic_M_stellar.to(u.kg) + ic_M_gas.to(u.kg)\n",
    "ic_R = ic_rhm.to(u.m)"
   ]
  },
  {
   "cell_type": "code",
   "execution_count": 9,
   "metadata": {},
   "outputs": [
    {
     "data": {
      "text/latex": [
       "$0.36212097 \\; \\mathrm{\\frac{km}{s}}$"
      ],
      "text/plain": [
       "<Quantity 0.36212097 km / s>"
      ]
     },
     "execution_count": 9,
     "metadata": {},
     "output_type": "execute_result"
    }
   ],
   "source": [
    "ic_dispersion = get_dispersion(ic_M, ic_R)\n",
    "ic_3ddispersion = get_3ddispersion(ic_M, ic_R)\n",
    "ic_dispersion"
   ]
  },
  {
   "cell_type": "markdown",
   "metadata": {},
   "source": [
    "range of prections depending on radius"
   ]
  },
  {
   "cell_type": "markdown",
   "metadata": {},
   "source": [
    "##### NGC 1333"
   ]
  },
  {
   "cell_type": "code",
   "execution_count": 10,
   "metadata": {},
   "outputs": [],
   "source": [
    "ngc_M_stellar = 102 * u.solMass # see Foster et al. 2015\n",
    "ngc_M_gas = ngc_mass * u.solMass\n",
    "# ngc_rhm = 0.97 * u. pc # see Foster et al. 2015\n",
    "ngc_rhm = stats['L_err'][1] * (np.pi/180)*stats['D'][1] * u.pc # calculated using ellipse width and distance\n",
    "\n",
    "ngc_M = ngc_M_stellar.to(u.kg) + ngc_M_gas.to(u.kg)\n",
    "ngc_R = ngc_rhm.to(u.m)"
   ]
  },
  {
   "cell_type": "code",
   "execution_count": 11,
   "metadata": {},
   "outputs": [],
   "source": [
    "ngc_dispersion = get_dispersion(ngc_M, ngc_R)\n",
    "ngc_3ddispersion = get_3ddispersion(ngc_M, ngc_R)"
   ]
  },
  {
   "cell_type": "markdown",
   "metadata": {},
   "source": [
    "actual_dispersion = np.sqrt(sigma_v^2 + sigma_u^2 + sigma_w^2)"
   ]
  },
  {
   "cell_type": "markdown",
   "metadata": {},
   "source": [
    "## Bounded-ness\n",
    "$K = \\frac{1}{2}U$ @ equilib"
   ]
  },
  {
   "cell_type": "markdown",
   "metadata": {},
   "source": [
    "unbound: $2K>U$"
   ]
  },
  {
   "cell_type": "markdown",
   "metadata": {},
   "source": [
    "KE = 1/2 PE\n",
    "predicted_sigma - what the sigma is if bounded\n",
    "\n",
    "\n",
    "KE > PE - unbound\n",
    "\n",
    "KE ~ sigma^2\n",
    "(sqrt(2) * sigma)^2"
   ]
  },
  {
   "cell_type": "markdown",
   "metadata": {},
   "source": [
    "square of velocity dispersion has to be 2x as large as \n",
    "\n",
    "sigma^2_id greater by sqrt(2)"
   ]
  },
  {
   "cell_type": "markdown",
   "metadata": {},
   "source": [
    "dont need potential energy"
   ]
  },
  {
   "cell_type": "markdown",
   "metadata": {},
   "source": [
    "$\\frac{1}{2}mv^2 = \\frac{1}{4}\\frac{Gm^2}{r}$"
   ]
  },
  {
   "cell_type": "markdown",
   "metadata": {},
   "source": [
    "$v^2 = \\frac{Gm}{2r}$"
   ]
  },
  {
   "cell_type": "code",
   "execution_count": null,
   "metadata": {},
   "outputs": [],
   "source": []
  },
  {
   "cell_type": "code",
   "execution_count": 12,
   "metadata": {},
   "outputs": [
    {
     "name": "stdout",
     "output_type": "stream",
     "text": [
      "NGC 1333 1D: 0.2837567649603684 km / s\n",
      "NGC 1333 3D: 0.4914811339027382 km / s\n",
      "IC 348 1D: 0.3621209655265901 km / s\n",
      "IC 348 3D: 0.627211910777952 km / s\n"
     ]
    }
   ],
   "source": [
    "print(f\"NGC 1333 1D: {ngc_dispersion}\")\n",
    "print(f\"NGC 1333 3D: {ngc_3ddispersion}\")\n",
    "\n",
    "print(f\"IC 348 1D: {ic_dispersion}\")\n",
    "print(f\"IC 348 3D: {ic_3ddispersion}\")"
   ]
  },
  {
   "cell_type": "markdown",
   "metadata": {},
   "source": [
    "##### IC 348"
   ]
  },
  {
   "cell_type": "code",
   "execution_count": 13,
   "metadata": {},
   "outputs": [
    {
     "data": {
      "text/latex": [
       "$1311315.9 \\; \\mathrm{\\frac{m^{2}}{s^{2}}}$"
      ],
      "text/plain": [
       "<Quantity 1311315.9367391 m2 / s2>"
      ]
     },
     "execution_count": 13,
     "metadata": {},
     "output_type": "execute_result"
    }
   ],
   "source": [
    "G*ic_M/ic_R"
   ]
  },
  {
   "cell_type": "code",
   "execution_count": 14,
   "metadata": {},
   "outputs": [
    {
     "data": {
      "text/latex": [
       "$131131.59 \\; \\mathrm{\\frac{m^{2}}{s^{2}}}$"
      ],
      "text/plain": [
       "<Quantity 131131.59367391 m2 / s2>"
      ]
     },
     "execution_count": 14,
     "metadata": {},
     "output_type": "execute_result"
    }
   ],
   "source": [
    "ic_dispersion.to(u.m/u.s)**2"
   ]
  },
  {
   "cell_type": "code",
   "execution_count": 15,
   "metadata": {},
   "outputs": [
    {
     "data": {
      "text/latex": [
       "$3.2639879 \\times 10^{37} \\; \\mathrm{\\frac{m^{2}\\,kg}{s^{2}}}$"
      ],
      "text/plain": [
       "<Quantity 3.26398794e+37 kg m2 / s2>"
      ]
     },
     "execution_count": 15,
     "metadata": {},
     "output_type": "execute_result"
    }
   ],
   "source": [
    "(1/2)*(ic_M)*(ic_dispersion.to(u.m/u.s)**2)"
   ]
  },
  {
   "cell_type": "code",
   "execution_count": 16,
   "metadata": {},
   "outputs": [
    {
     "data": {
      "text/latex": [
       "$1.631994 \\times 10^{38} \\; \\mathrm{\\frac{m^{2}\\,kg}{s^{2}}}$"
      ],
      "text/plain": [
       "<Quantity 1.63199397e+38 kg m2 / s2>"
      ]
     },
     "execution_count": 16,
     "metadata": {},
     "output_type": "execute_result"
    }
   ],
   "source": [
    "((1/4)*G*ic_M**2)/ic_R"
   ]
  }
 ],
 "metadata": {
  "kernelspec": {
   "display_name": "Python 3",
   "language": "python",
   "name": "python3"
  },
  "language_info": {
   "codemirror_mode": {
    "name": "ipython",
    "version": 3
   },
   "file_extension": ".py",
   "mimetype": "text/x-python",
   "name": "python",
   "nbconvert_exporter": "python",
   "pygments_lexer": "ipython3",
   "version": "3.7.6"
  }
 },
 "nbformat": 4,
 "nbformat_minor": 4
}
