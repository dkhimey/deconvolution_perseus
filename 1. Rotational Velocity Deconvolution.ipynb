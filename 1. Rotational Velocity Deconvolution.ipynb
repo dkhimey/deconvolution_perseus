{
 "cells": [
  {
   "cell_type": "code",
   "execution_count": 1,
   "metadata": {},
   "outputs": [],
   "source": [
    "import numpy as np\n",
    "\n",
    "from astropy.io import fits\n",
    "from astropy.table import Table\n",
    "\n",
    "from astroML.density_estimation import XDGMM"
   ]
  },
  {
   "cell_type": "markdown",
   "metadata": {},
   "source": [
    "## Load Data"
   ]
  },
  {
   "cell_type": "code",
   "execution_count": 2,
   "metadata": {},
   "outputs": [],
   "source": [
    "# t = Table.read('kounkel_2019_apogee.csv')"
   ]
  },
  {
   "cell_type": "code",
   "execution_count": 3,
   "metadata": {},
   "outputs": [],
   "source": [
    "# flag1 = t['e_RV'] < 0.5 #error cut on radial velocity\n",
    "# flag2 = (t['Vrot'] > 5) & (t['Vrot'] < 150) #cut on vsini \n",
    "# flag3 = t['SB2']==1 #flag to ensure star is not a binary\n",
    "# flag4 = t['YSO'] > 0 #cut to make sure the star is a YSO\n",
    "\n",
    "# flag5_ic = (t['RV'] > 13) & (t['RV']<17) #cut on velocity outliers -- can be tweaked\n",
    "# flag5_ngc = (t['RV'] > 12.5) & (t['RV'] < 17.5)\n",
    "\n",
    "# flag6 = (t['parallax'] > 2.5) & (t['parallax'] < 4)\n",
    "# #flag6 = potential cut on distance from cluster center?"
   ]
  },
  {
   "cell_type": "code",
   "execution_count": 4,
   "metadata": {},
   "outputs": [],
   "source": [
    "# ic_mask = fits.getdata(\"ic348_kounkel_mask.fits\").astype(bool) # cut to focus on IC348 field\n",
    "# ngc_mask = fits.getdata(\"ngc1333_kounkel_mask.fits\").astype(bool)\n",
    "\n",
    "# flags = flag1 & flag2 & flag3 & flag4 \n",
    "# # & flag6\n",
    "# ic_flags = flags & flag5_ic & ic_mask\n",
    "# ngc_flags = flags & flag5_ngc & ngc_mask\n",
    "\n",
    "# data_ic = t[ic_flags]\n",
    "# data_ngc = t[ngc_flags]\n",
    "\n",
    "# data_ic = data_ic.filled()\n",
    "# data_ngc = data_ngc.filled()"
   ]
  },
  {
   "cell_type": "code",
   "execution_count": 5,
   "metadata": {},
   "outputs": [],
   "source": [
    "data_ic = Table.read(\"data/ic348_apogee.csv\")\n",
    "data_ngc = Table.read(\"data/ngc1333_apogee.csv\")"
   ]
  },
  {
   "cell_type": "markdown",
   "metadata": {},
   "source": [
    "## Run Deconvolution"
   ]
  },
  {
   "cell_type": "markdown",
   "metadata": {},
   "source": [
    "#### IC 348\n",
    "$\\textit{set up array}$"
   ]
  },
  {
   "cell_type": "code",
   "execution_count": 6,
   "metadata": {},
   "outputs": [],
   "source": [
    "X_ic = np.vstack([data_ic['RV']]).T\n",
    "Xerr_ic = np.zeros(X_ic.shape + X_ic.shape[-1:])\n",
    "\n",
    "for i in range(0,data_ic['e_RV'].shape[0]):\n",
    "    np.fill_diagonal(Xerr_ic[i],[data_ic['e_RV'][i]**2])"
   ]
  },
  {
   "cell_type": "markdown",
   "metadata": {},
   "source": [
    "$\\textit{run deconvolution}$"
   ]
  },
  {
   "cell_type": "code",
   "execution_count": 7,
   "metadata": {},
   "outputs": [],
   "source": [
    "clf_ic = XDGMM(n_components = 1)\n",
    "clf_ic.fit(X_ic, Xerr_ic)\n",
    "\n",
    "mu_ic = clf_ic.mu\n",
    "cov_ic = np.diagonal(clf_ic.V)\n",
    "sigma_ic = np.sqrt(np.diagonal(clf_ic.V))"
   ]
  },
  {
   "cell_type": "markdown",
   "metadata": {},
   "source": [
    "#### NGC 1333\n",
    "$\\textit{set up array}$"
   ]
  },
  {
   "cell_type": "code",
   "execution_count": 8,
   "metadata": {},
   "outputs": [],
   "source": [
    "X_ngc = np.vstack([data_ngc['RV']]).T\n",
    "Xerr_ngc = np.zeros(X_ngc.shape + X_ngc.shape[-1:])\n",
    "\n",
    "for i in range(0,data_ngc['e_RV'].shape[0]):\n",
    "    np.fill_diagonal(Xerr_ngc[i],[data_ngc['e_RV'][i]**2])"
   ]
  },
  {
   "cell_type": "markdown",
   "metadata": {},
   "source": [
    "$\\textit{run deconvolution}$"
   ]
  },
  {
   "cell_type": "code",
   "execution_count": 9,
   "metadata": {},
   "outputs": [],
   "source": [
    "clf_ngc = XDGMM(n_components = 1)\n",
    "clf_ngc.fit(X_ngc, Xerr_ngc)\n",
    "\n",
    "mu_ngc = clf_ngc.mu\n",
    "cov_ngc = np.diagonal(clf_ngc.V)\n",
    "sigma_ngc = np.sqrt(np.diagonal(clf_ngc.V))"
   ]
  },
  {
   "cell_type": "markdown",
   "metadata": {},
   "source": [
    "## Summary "
   ]
  },
  {
   "cell_type": "code",
   "execution_count": 10,
   "metadata": {
    "scrolled": true
   },
   "outputs": [
    {
     "name": "stdout",
     "output_type": "stream",
     "text": [
      "IC 348 Dispersion\n",
      "Rvel mean    : [15.16084675]\n",
      "Rvel sigma   : [0.70639542]\n",
      "NGC 1333 Dispersion\n",
      "Rvel mean    : [14.21082717]\n",
      "Rvel sigma   : [0.97002444]\n"
     ]
    }
   ],
   "source": [
    "print(\"IC 348 Dispersion\")\n",
    "print(f\"Rvel mean    : {mu_ic[0]}\")\n",
    "print(f\"Rvel sigma   : {sigma_ic[0]}\")\n",
    "\n",
    "print(\"NGC 1333 Dispersion\")\n",
    "print(f\"Rvel mean    : {mu_ngc[0]}\")\n",
    "print(f\"Rvel sigma   : {sigma_ngc[0]}\")"
   ]
  },
  {
   "cell_type": "code",
   "execution_count": 11,
   "metadata": {},
   "outputs": [],
   "source": [
    "# Cottaar et al (2015), IC 348 : 0.72 ± 0.07 km/s\n",
    "# Foster et al (2015), NGC 1333 : 0.92 ± 0.12 km/s"
   ]
  }
 ],
 "metadata": {
  "kernelspec": {
   "display_name": "Python [conda env:.conda-standard]",
   "language": "python",
   "name": "conda-env-.conda-standard-py"
  },
  "language_info": {
   "codemirror_mode": {
    "name": "ipython",
    "version": 3
   },
   "file_extension": ".py",
   "mimetype": "text/x-python",
   "name": "python",
   "nbconvert_exporter": "python",
   "pygments_lexer": "ipython3",
   "version": "3.7.9"
  }
 },
 "nbformat": 4,
 "nbformat_minor": 4
}
